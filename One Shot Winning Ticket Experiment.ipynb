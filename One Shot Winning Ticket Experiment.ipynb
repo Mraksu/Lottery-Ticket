{
 "cells": [
  {
   "cell_type": "markdown",
   "metadata": {},
   "source": [
    "# Generating Lottery Ticket with one shot pruning\n",
    "\n",
    "In this notebook I will try to generate winning tickets with **one-shot pruning** approach.\n",
    "\n",
    "We will follow the following steps:\n",
    "\n",
    "1. Initiate a model, save the initial weights. \n",
    "\n",
    "2. Train the model till convergence. That will be the original model.\n",
    "\n",
    "3. Prune the p% of the weights (prune the low magnitudes).\n",
    "\n",
    "4. Create a mask for the weights.\n",
    "\n",
    "5. Train a network manually with initial weights and mask\n",
    "\n",
    "6. Evaluate the results\n",
    "\n",
    "### Then additional experiments and comparisons\n",
    "\n",
    "With:\n",
    "\n",
    "7. Random initial weights, proper mask\n",
    "\n",
    "8. Original initial weights, random mask\n",
    "\n",
    "9. Random weights, random mask"
   ]
  },
  {
   "cell_type": "code",
   "execution_count": 1,
   "metadata": {},
   "outputs": [],
   "source": [
    "import tensorflow as tf\n",
    "import numpy as np\n",
    "import math\n",
    "import os\n",
    "import tensorflow_model_optimization as tfmot\n",
    "from tensorflow_model_optimization.sparsity import keras as sparsity\n",
    "import matplotlib.pyplot as plt\n",
    "from tensorflow.keras import models, layers, datasets\n",
    "from tensorflow.keras import utils\n",
    "from tensorflow.keras.layers import Dense, Flatten, Reshape, Input, InputLayer\n",
    "from tensorflow.keras.models import Sequential, Model\n",
    "from tensorflow.keras.initializers import RandomNormal\n",
    "from sklearn.metrics import accuracy_score, precision_score, recall_score\n",
    "from load_MNIST import load_MNIST\n",
    "from used_func import parameter_count"
   ]
  },
  {
   "cell_type": "code",
   "execution_count": 2,
   "metadata": {},
   "outputs": [
    {
     "name": "stdout",
     "output_type": "stream",
     "text": [
      "the shape of the train features is (60000, 28, 28)\n",
      "the shape of the train label is (60000,)\n",
      "new shape of the data after the adding the channel is (60000, 28, 28, 1)\n",
      "\n",
      "Dimensions of training and testing sets are:\n",
      "X_train.shape = (60000, 784), y_train = (60000, 10)\n",
      "X_test.shape = (10000, 784), y_test = (10000, 10)\n"
     ]
    }
   ],
   "source": [
    "# loads, normalizes and preprocesses the MNIST dataset\n",
    "\n",
    "X_train,y_train,X_test,y_test=load_MNIST()"
   ]
  },
  {
   "cell_type": "code",
   "execution_count": 3,
   "metadata": {},
   "outputs": [],
   "source": [
    "# Assigning some variables\n",
    "\n",
    "batch_size = 32\n",
    "epochs = 30\n",
    "num_classes = y_test.shape[1]\n",
    "\n",
    "# input image dimensions\n",
    "\n",
    "img_rows, img_cols = 28, 28\n",
    "\n"
   ]
  },
  {
   "cell_type": "code",
   "execution_count": 4,
   "metadata": {},
   "outputs": [],
   "source": [
    "layers = tf.keras.layers"
   ]
  },
  {
   "cell_type": "code",
   "execution_count": 5,
   "metadata": {},
   "outputs": [],
   "source": [
    "# Specify the parameters to be used for layer-wise pruning, NO PRUNING is done here:\n",
    "pruning_params_unpruned = {\n",
    "    'pruning_schedule': sparsity.ConstantSparsity(\n",
    "        target_sparsity=0.0, begin_step=0,\n",
    "        end_step = 0, frequency=100\n",
    "    )\n",
    "}"
   ]
  },
  {
   "cell_type": "code",
   "execution_count": 6,
   "metadata": {},
   "outputs": [],
   "source": [
    "# Specify the parameters to be used for layer-wise pruning\n",
    "#p=0.2, %30 of the weights will be pruned in this setup\n",
    "#we are setting begin_step=0 because we will prune the trained model\n",
    "\n",
    "pruning_params_pruned = {\n",
    "    'pruning_schedule': sparsity.ConstantSparsity(\n",
    "        target_sparsity=0.3, begin_step=0,\n",
    "        end_step = -1, frequency=100\n",
    "    )\n",
    "}"
   ]
  },
  {
   "cell_type": "code",
   "execution_count": 7,
   "metadata": {},
   "outputs": [],
   "source": [
    "def pruned_nn(pruning_params):\n",
    "    \"\"\"\n",
    "    Function to define a 300 100 dense\n",
    "    fully connected architecture for MNIST\n",
    "    classification\n",
    "    \"\"\"\n",
    "    pruned_model = Sequential()\n",
    "    \n",
    "    pruned_model.add(\n",
    "        sparsity.prune_low_magnitude(\n",
    "            Dense(units = 300, activation = 'relu',\n",
    "                  kernel_initializer = tf.keras.initializers.GlorotUniform,\n",
    "                  input_shape = (784,)\n",
    "                 ), \n",
    "            **pruning_params)\n",
    "    )\n",
    "\n",
    "    pruned_model.add(\n",
    "        sparsity.prune_low_magnitude(\n",
    "            Dense(\n",
    "                units = 100, activation = 'relu',\n",
    "                kernel_initializer = tf.keras.initializers.GlorotUniform\n",
    "            ),\n",
    "            **pruning_params))\n",
    "    \n",
    "    pruned_model.add(\n",
    "        sparsity.prune_low_magnitude(\n",
    "            Dense(\n",
    "                units = 10, activation = 'softmax'\n",
    "            ),\n",
    "            **pruning_params))\n",
    "    \n",
    "    \n",
    "    pruned_model.compile(\n",
    "        loss = tf.keras.losses.categorical_crossentropy,\n",
    "        optimizer=tf.keras.optimizers.Adam(),\n",
    "        metrics = ['accuracy'])\n",
    "\n",
    "    return pruned_model\n",
    "\n"
   ]
  },
  {
   "cell_type": "code",
   "execution_count": 8,
   "metadata": {},
   "outputs": [],
   "source": [
    "# Add a pruning step callback to peg the pruning step to the optimizer's \n",
    "# step. Also add a callback to add pruning summaries to tensorboard\n",
    "\n",
    "callbacks = [\n",
    "             sparsity.UpdatePruningStep(),\n",
    "             # sparsity.PruningSummaries(log_dir = logdir, profile_batch=0),\n",
    "             tf.keras.callbacks.EarlyStopping(\n",
    "                 monitor='val_loss', patience = 3,\n",
    "                 min_delta=0.001\n",
    "             )\n",
    "]"
   ]
  },
  {
   "cell_type": "markdown",
   "metadata": {},
   "source": [
    "## 1: Randomly Initialize the Network\n",
    "\n",
    "In this step we will randomly initialize and train the network. We will save the initial random weights to use them later on."
   ]
  },
  {
   "cell_type": "code",
   "execution_count": 9,
   "metadata": {},
   "outputs": [
    {
     "name": "stdout",
     "output_type": "stream",
     "text": [
      "WARNING:tensorflow:From C:\\Users\\Murat\\Anaconda3\\lib\\site-packages\\tensorflow_model_optimization\\python\\core\\sparsity\\keras\\pruning_wrapper.py:183: Layer.add_variable (from tensorflow.python.keras.engine.base_layer) is deprecated and will be removed in a future version.\n",
      "Instructions for updating:\n",
      "Please use `layer.add_weight` method instead.\n"
     ]
    }
   ],
   "source": [
    "# Instantiate the NN-\n",
    "orig_model = pruned_nn(pruning_params_unpruned)"
   ]
  },
  {
   "cell_type": "code",
   "execution_count": 10,
   "metadata": {},
   "outputs": [
    {
     "name": "stdout",
     "output_type": "stream",
     "text": [
      "Directory  Exp  already exists\n"
     ]
    }
   ],
   "source": [
    "# Save random initialized weights BEFORE pruning and training of NN\n",
    "# and BEFORE the model is STRIPPED-\n",
    "\n",
    "#first let's create the folder\n",
    "\n",
    "dirName='Exp'\n",
    "\n",
    "if not os.path.exists(dirName):\n",
    "    os.mkdir(dirName)\n",
    "    print(\"Directory \" , dirName ,  \" Created \")\n",
    "else:    \n",
    "    print(\"Directory \" , dirName ,  \" already exists\")\n",
    "\n",
    "orig_model.save_weights(\"Exp/MNIST_300_100_Randomly_Initialized_weights.h5\", overwrite=True)"
   ]
  },
  {
   "cell_type": "code",
   "execution_count": 11,
   "metadata": {},
   "outputs": [],
   "source": [
    "# Strip the pruning wrappers from UNPRUNED model-\n",
    "orig_model_stripped = sparsity.strip_pruning(orig_model)"
   ]
  },
  {
   "cell_type": "code",
   "execution_count": 12,
   "metadata": {},
   "outputs": [],
   "source": [
    "# Save random uninitialized weights BEFORE pruning of NN using STRIPPED model-\n",
    "orig_model_stripped.save_weights(\"Exp/MNIST_300_100_Original_Weights_Unpruned.h5\", overwrite=True)"
   ]
  },
  {
   "cell_type": "code",
   "execution_count": 13,
   "metadata": {},
   "outputs": [
    {
     "name": "stdout",
     "output_type": "stream",
     "text": [
      "\n",
      "In orig_model Number of nonzero parameters in each layer are: \n",
      "\n",
      "235200\n",
      "0\n",
      "30000\n",
      "0\n",
      "1000\n",
      "0\n",
      "\n",
      "Total number of trainable parameters = 266200\n",
      "\n"
     ]
    }
   ],
   "source": [
    "orig_model_params=parameter_count('orig_model',orig_model)"
   ]
  },
  {
   "cell_type": "code",
   "execution_count": 14,
   "metadata": {},
   "outputs": [
    {
     "name": "stdout",
     "output_type": "stream",
     "text": [
      "\n",
      "In orig_model_stripped Number of nonzero parameters in each layer are: \n",
      "\n",
      "235200\n",
      "0\n",
      "30000\n",
      "0\n",
      "1000\n",
      "0\n",
      "\n",
      "Total number of trainable parameters = 266200\n",
      "\n"
     ]
    }
   ],
   "source": [
    "orig_model_stripped_params=parameter_count('orig_model_stripped',orig_model_stripped)"
   ]
  },
  {
   "cell_type": "code",
   "execution_count": 15,
   "metadata": {},
   "outputs": [
    {
     "name": "stdout",
     "output_type": "stream",
     "text": [
      "Model: \"sequential\"\n",
      "_________________________________________________________________\n",
      "Layer (type)                 Output Shape              Param #   \n",
      "=================================================================\n",
      "prune_low_magnitude_dense (P (None, 300)               470702    \n",
      "_________________________________________________________________\n",
      "prune_low_magnitude_dense_1  (None, 100)               60102     \n",
      "_________________________________________________________________\n",
      "prune_low_magnitude_dense_2  (None, 10)                2012      \n",
      "=================================================================\n",
      "Total params: 532,816\n",
      "Trainable params: 266,610\n",
      "Non-trainable params: 266,206\n",
      "_________________________________________________________________\n"
     ]
    }
   ],
   "source": [
    "orig_model.summary()"
   ]
  },
  {
   "cell_type": "code",
   "execution_count": 16,
   "metadata": {},
   "outputs": [
    {
     "name": "stdout",
     "output_type": "stream",
     "text": [
      "Model: \"sequential\"\n",
      "_________________________________________________________________\n",
      "Layer (type)                 Output Shape              Param #   \n",
      "=================================================================\n",
      "dense (Dense)                (None, 300)               235500    \n",
      "_________________________________________________________________\n",
      "dense_1 (Dense)              (None, 100)               30100     \n",
      "_________________________________________________________________\n",
      "dense_2 (Dense)              (None, 10)                1010      \n",
      "=================================================================\n",
      "Total params: 266,610\n",
      "Trainable params: 266,610\n",
      "Non-trainable params: 0\n",
      "_________________________________________________________________\n"
     ]
    }
   ],
   "source": [
    "orig_model_stripped.summary()"
   ]
  },
  {
   "cell_type": "markdown",
   "metadata": {},
   "source": [
    "### 2: Train the unpruned Network until it converges\n",
    "_Early Stopping_ criterion has been used for training of the model\n",
    "\n",
    "This Early Stopping criterion is important to decide on the winning ticket"
   ]
  },
  {
   "cell_type": "code",
   "execution_count": 17,
   "metadata": {},
   "outputs": [
    {
     "name": "stdout",
     "output_type": "stream",
     "text": [
      "Train on 60000 samples, validate on 10000 samples\n",
      "Epoch 1/30\n",
      "60000/60000 [==============================] - 12s 201us/sample - loss: 0.2270 - accuracy: 0.9303 - val_loss: 0.1449 - val_accuracy: 0.9553\n",
      "Epoch 2/30\n",
      "60000/60000 [==============================] - 11s 183us/sample - loss: 0.1061 - accuracy: 0.9661 - val_loss: 0.1166 - val_accuracy: 0.9659\n",
      "Epoch 3/30\n",
      "60000/60000 [==============================] - 9s 158us/sample - loss: 0.0751 - accuracy: 0.9763 - val_loss: 0.1012 - val_accuracy: 0.9689\n",
      "Epoch 4/30\n",
      "60000/60000 [==============================] - 8s 127us/sample - loss: 0.0579 - accuracy: 0.9815 - val_loss: 0.1077 - val_accuracy: 0.9686\n",
      "Epoch 5/30\n",
      "60000/60000 [==============================] - 8s 128us/sample - loss: 0.0447 - accuracy: 0.9850 - val_loss: 0.0986 - val_accuracy: 0.9734\n",
      "Epoch 6/30\n",
      "60000/60000 [==============================] - 9s 145us/sample - loss: 0.0385 - accuracy: 0.9872 - val_loss: 0.1090 - val_accuracy: 0.9712\n",
      "Epoch 7/30\n",
      "60000/60000 [==============================] - 9s 145us/sample - loss: 0.0304 - accuracy: 0.9893 - val_loss: 0.1101 - val_accuracy: 0.9750\n",
      "Epoch 8/30\n",
      "60000/60000 [==============================] - 9s 146us/sample - loss: 0.0285 - accuracy: 0.9905 - val_loss: 0.1063 - val_accuracy: 0.9718\n"
     ]
    }
   ],
   "source": [
    "# Train unpruned Neural Network-\n",
    "history_orig = orig_model.fit(\n",
    "    x = X_train, y = y_train,\n",
    "    batch_size = batch_size,\n",
    "    epochs = epochs,\n",
    "    verbose = 1,\n",
    "    callbacks = callbacks,\n",
    "    validation_data = (X_test, y_test),\n",
    "    shuffle = True\n",
    ")\n"
   ]
  },
  {
   "cell_type": "code",
   "execution_count": 18,
   "metadata": {},
   "outputs": [
    {
     "name": "stdout",
     "output_type": "stream",
     "text": [
      "\n",
      "Original & UNPRUNED model metrics on testing dataset:\n",
      "loss = 0.1063 and accuracy = 0.9718\n",
      "\n"
     ]
    }
   ],
   "source": [
    "# Evaluate original unpruned trained model on testing dataset-\n",
    "score_orig_model = orig_model.evaluate(X_test, y_test, verbose=0)\n",
    "\n",
    "print(\"\\nOriginal & UNPRUNED model metrics on testing dataset:\")\n",
    "print(\"loss = {0:.4f} and accuracy = {1:.4f}\\n\".format(score_orig_model[0], score_orig_model[1]))"
   ]
  },
  {
   "cell_type": "code",
   "execution_count": 19,
   "metadata": {},
   "outputs": [],
   "source": [
    "# Trained parameters of neural network AFTER training UNPRUNED model-\n",
    "orig_model.save_weights(\"Exp/MNIST_300_100_Trained_Weights_Unpruned.h5\", overwrite = True)"
   ]
  },
  {
   "cell_type": "code",
   "execution_count": 20,
   "metadata": {},
   "outputs": [
    {
     "data": {
      "image/png": "[encoded data removed]",
      "text/plain": [
       "<Figure size 640x560 with 1 Axes>"
      ]
     },
     "metadata": {},
     "output_type": "display_data"
    },
    {
     "data": {
      "image/png": "[encoded data removed]",
      "text/plain": [
       "<Figure size 640x560 with 1 Axes>"
      ]
     },
     "metadata": {},
     "output_type": "display_data"
    }
   ],
   "source": [
    "# Visualize the training of the neural network (scalar metrics):\n",
    "fig=plt.figure(figsize=(8, 7), dpi= 80, facecolor='w', edgecolor='k')\n",
    "\n",
    "plt.plot(history_orig.history['loss'], label = 'training loss')\n",
    "plt.plot(history_orig.history['val_loss'], label = 'testing_loss')\n",
    "\n",
    "plt.title(\"MNIST 300 100 original model - UNPRUNED training visualization - Loss\")\n",
    "plt.xlabel(\"number of epochs\")\n",
    "plt.ylabel(\"Loss\")\n",
    "plt.legend(loc = 'best')\n",
    "plt.show()\n",
    "\n",
    "fig=plt.figure(figsize=(8, 7), dpi= 80, facecolor='w', edgecolor='k')\n",
    "\n",
    "plt.plot(history_orig.history['accuracy'], label = 'training accuracy')\n",
    "plt.plot(history_orig.history['val_accuracy'], label = 'testing accuracy')\n",
    "\n",
    "plt.title(\"MNIST 300 100 original model - UNPRUNED training visualization - Accuracy\")\n",
    "plt.xlabel(\"number of epochs\")\n",
    "plt.ylabel(\"Accuracy\")\n",
    "plt.legend(loc = 'best')  # 'center right'\n",
    "plt.show()\n"
   ]
  },
  {
   "cell_type": "markdown",
   "metadata": {},
   "source": [
    "### Count number of non-zero parameters in each layer-"
   ]
  },
  {
   "cell_type": "code",
   "execution_count": 21,
   "metadata": {},
   "outputs": [
    {
     "name": "stdout",
     "output_type": "stream",
     "text": [
      "\n",
      "In orig_model_trained Number of nonzero parameters in each layer are: \n",
      "\n",
      "235200\n",
      "300\n",
      "30000\n",
      "100\n",
      "1000\n",
      "10\n",
      "\n",
      "Total number of trainable parameters = 266610\n",
      "\n"
     ]
    }
   ],
   "source": [
    "orig_model_trained_params=parameter_count('orig_model_trained',orig_model)"
   ]
  },
  {
   "cell_type": "markdown",
   "metadata": {},
   "source": [
    "### Observation\n",
    "\n",
    "The parameter count is 410 more, because 410 is the number of the hidden units\n",
    "\n",
    "Beside that we can see that the number of the weigths remained same since there were no pruning"
   ]
  },
  {
   "cell_type": "markdown",
   "metadata": {},
   "source": [
    "## 3 Pruning the network with one-shot pruning\n",
    "\n",
    "Here, the trained model will be pruned p% of its weights\n"
   ]
  },
  {
   "cell_type": "code",
   "execution_count": 22,
   "metadata": {},
   "outputs": [],
   "source": [
    "# Instantiate a Nueal Network model to be pruned using parameters from above-\n",
    "pruned_model = pruned_nn(pruning_params_pruned)"
   ]
  },
  {
   "cell_type": "code",
   "execution_count": 23,
   "metadata": {},
   "outputs": [],
   "source": [
    "# Load weights from original trained and unpruned model-\n",
    "pruned_model.load_weights(\"Exp/MNIST_300_100_Trained_Weights_Unpruned.h5\")"
   ]
  },
  {
   "cell_type": "code",
   "execution_count": 24,
   "metadata": {},
   "outputs": [
    {
     "name": "stdout",
     "output_type": "stream",
     "text": [
      "Train on 60000 samples, validate on 10000 samples\n",
      "Epoch 1/30\n",
      "60000/60000 [==============================] - 11s 176us/sample - loss: 0.0194 - accuracy: 0.9936 - val_loss: 0.1175 - val_accuracy: 0.9726\n",
      "Epoch 2/30\n",
      "60000/60000 [==============================] - 10s 171us/sample - loss: 0.0135 - accuracy: 0.9952 - val_loss: 0.1050 - val_accuracy: 0.9751\n",
      "Epoch 3/30\n",
      "60000/60000 [==============================] - 9s 158us/sample - loss: 0.0109 - accuracy: 0.9963 - val_loss: 0.1321 - val_accuracy: 0.9735\n",
      "Epoch 4/30\n",
      "60000/60000 [==============================] - 9s 157us/sample - loss: 0.0133 - accuracy: 0.9955 - val_loss: 0.1301 - val_accuracy: 0.9754\n",
      "Epoch 5/30\n",
      "60000/60000 [==============================] - 10s 158us/sample - loss: 0.0094 - accuracy: 0.9969 - val_loss: 0.1423 - val_accuracy: 0.9729\n"
     ]
    }
   ],
   "source": [
    "# Train pruned NN\n",
    "history_pruned = pruned_model.fit(\n",
    "    x = X_train, y = y_train,\n",
    "    batch_size = batch_size,\n",
    "    epochs = epochs,\n",
    "    verbose = 1,\n",
    "    callbacks = callbacks,\n",
    "    validation_data = (X_test, y_test),\n",
    "    shuffle = True\n",
    ")\n"
   ]
  },
  {
   "cell_type": "code",
   "execution_count": 25,
   "metadata": {},
   "outputs": [
    {
     "name": "stdout",
     "output_type": "stream",
     "text": [
      "\n",
      "PRUNED model metrics on testing dataset:\n",
      "loss = 0.1423 and accuracy = 0.9729\n",
      "\n"
     ]
    }
   ],
   "source": [
    "# Evaluate pruned trained model on testing dataset-\n",
    "score_pruned_model = pruned_model.evaluate(X_test, y_test, verbose = 0)\n",
    "\n",
    "print(\"\\nPRUNED model metrics on testing dataset:\")\n",
    "print(\"loss = {0:.4f} and accuracy = {1:.4f}\\n\".format(score_pruned_model[0], score_pruned_model[1]))"
   ]
  },
  {
   "cell_type": "code",
   "execution_count": 26,
   "metadata": {},
   "outputs": [],
   "source": [
    "# Save weights of PRUNED and Trained model BEFORE stripping-\n",
    "pruned_model.save_weights(\"Exp/MNIST_300_100_Weights_Pruned_with_pruning_params.h5\", overwrite = True)"
   ]
  },
  {
   "cell_type": "code",
   "execution_count": 27,
   "metadata": {},
   "outputs": [],
   "source": [
    "# Strip the pruning wrappers from pruned model-\n",
    "pruned_model_stripped = sparsity.strip_pruning(pruned_model)"
   ]
  },
  {
   "cell_type": "code",
   "execution_count": 28,
   "metadata": {},
   "outputs": [
    {
     "name": "stdout",
     "output_type": "stream",
     "text": [
      "Model: \"sequential_1\"\n",
      "_________________________________________________________________\n",
      "Layer (type)                 Output Shape              Param #   \n",
      "=================================================================\n",
      "dense_3 (Dense)              (None, 300)               235500    \n",
      "_________________________________________________________________\n",
      "dense_4 (Dense)              (None, 100)               30100     \n",
      "_________________________________________________________________\n",
      "dense_5 (Dense)              (None, 10)                1010      \n",
      "=================================================================\n",
      "Total params: 266,610\n",
      "Trainable params: 266,610\n",
      "Non-trainable params: 0\n",
      "_________________________________________________________________\n"
     ]
    }
   ],
   "source": [
    "# Show architecture of model (with pruning parameters)-\n",
    "pruned_model_stripped.summary()"
   ]
  },
  {
   "cell_type": "markdown",
   "metadata": {},
   "source": [
    "### THIS IS IMPORTANT!!!\n",
    "\n",
    "We have to reload the initial weights to the original model. Otherwise it will use the trained ones."
   ]
  },
  {
   "cell_type": "code",
   "execution_count": 29,
   "metadata": {},
   "outputs": [
    {
     "name": "stdout",
     "output_type": "stream",
     "text": [
      "\n",
      "In orig_model_stripped Number of nonzero parameters in each layer are: \n",
      "\n",
      "235200\n",
      "0\n",
      "30000\n",
      "0\n",
      "1000\n",
      "0\n",
      "\n",
      "Total number of trainable parameters = 266200\n",
      "\n"
     ]
    }
   ],
   "source": [
    "# we need to load the original weights to the model before we continue\n",
    "\n",
    "orig_model_stripped.load_weights('Exp/MNIST_300_100_Original_Weights_Unpruned.h5')\n",
    "\n",
    "orig_model_stripped_params=parameter_count('orig_model_stripped',orig_model_stripped)"
   ]
  },
  {
   "cell_type": "code",
   "execution_count": 30,
   "metadata": {},
   "outputs": [
    {
     "name": "stdout",
     "output_type": "stream",
     "text": [
      "\n",
      "In pruned_model Number of nonzero parameters in each layer are: \n",
      "\n",
      "164640\n",
      "300\n",
      "21000\n",
      "100\n",
      "700\n",
      "10\n",
      "\n",
      "Total number of trainable parameters = 186750\n",
      "\n"
     ]
    }
   ],
   "source": [
    "pruned_model_params=parameter_count('pruned_model',pruned_model)"
   ]
  },
  {
   "cell_type": "code",
   "execution_count": 31,
   "metadata": {},
   "outputs": [
    {
     "name": "stdout",
     "output_type": "stream",
     "text": [
      "\n",
      "% of weights pruned away = 29.69%\n",
      "\n"
     ]
    }
   ],
   "source": [
    "# Sanity-check: confirm that p = 30% of the weights are actually pruned away from the network-\n",
    "\n",
    "#we are subtracting 410 because it is the number of the units in the neural net\n",
    "\n",
    "print(\"\\n% of weights pruned away = {0:.2f}%\\n\".format( \\\n",
    "    (orig_model_stripped_params - pruned_model_params- 410) / orig_model_stripped_params * 100))"
   ]
  },
  {
   "cell_type": "markdown",
   "metadata": {},
   "source": [
    "## 4: Create mask with pruned weights:\n",
    "\n",
    "We use pruned model to create a mask\n",
    "\n",
    "The mask is created as follows-\n",
    "\n",
    "1. Weights surviving the pruning are set to one (1)\n",
    "1. Weights which are pruned are set to zero (0)"
   ]
  },
  {
   "cell_type": "code",
   "execution_count": 32,
   "metadata": {},
   "outputs": [],
   "source": [
    "# Instantiate a new neural network model for which, the mask is to be created,\n",
    "\n",
    "mask_model = pruned_nn(pruning_params_unpruned)"
   ]
  },
  {
   "cell_type": "code",
   "execution_count": 33,
   "metadata": {},
   "outputs": [],
   "source": [
    "# Load weights of PRUNED model-\n",
    "mask_model.load_weights(\"Exp/MNIST_300_100_Weights_Pruned_with_pruning_params.h5\")"
   ]
  },
  {
   "cell_type": "code",
   "execution_count": 34,
   "metadata": {},
   "outputs": [],
   "source": [
    "# Strip the model of its pruning parameters-\n",
    "mask_model_stripped = sparsity.strip_pruning(mask_model)"
   ]
  },
  {
   "cell_type": "code",
   "execution_count": 35,
   "metadata": {},
   "outputs": [],
   "source": [
    "# For each layer, for each weight which is 0, leave it, as is.\n",
    "# And for weights which survive the pruning,reinitialize it to ONE (1)-\n",
    "\n",
    "for wts in mask_model_stripped.trainable_weights:\n",
    "    wts.assign(tf.where(tf.equal(wts, 0.), 0., 1.))"
   ]
  },
  {
   "cell_type": "code",
   "execution_count": 36,
   "metadata": {},
   "outputs": [
    {
     "name": "stdout",
     "output_type": "stream",
     "text": [
      "\n",
      "Network architecture of masked model:\n",
      "\n",
      "(784, 300)\n",
      "(300,)\n",
      "(300, 100)\n",
      "(100,)\n",
      "(100, 10)\n",
      "(10,)\n"
     ]
    }
   ],
   "source": [
    "print(\"\\nNetwork architecture of masked model:\\n\")\n",
    "\n",
    "for layer in mask_model_stripped.trainable_weights:\n",
    "    print(layer.shape)"
   ]
  },
  {
   "cell_type": "code",
   "execution_count": 37,
   "metadata": {},
   "outputs": [
    {
     "data": {
      "text/plain": [
       "<tf.Variable 'prune_low_magnitude_dense_7/kernel:0' shape=(300, 100) dtype=float32, numpy=\n",
       "array([[0., 0., 1., ..., 1., 1., 0.],\n",
       "       [1., 1., 0., ..., 1., 1., 1.],\n",
       "       [1., 1., 0., ..., 0., 1., 0.],\n",
       "       ...,\n",
       "       [1., 1., 0., ..., 1., 1., 1.],\n",
       "       [1., 1., 0., ..., 1., 0., 1.],\n",
       "       [1., 1., 0., ..., 1., 1., 0.]], dtype=float32)>"
      ]
     },
     "execution_count": 37,
     "metadata": {},
     "output_type": "execute_result"
    }
   ],
   "source": [
    "# Sanity check whether mask is indeed created-\n",
    "\n",
    "mask_model_stripped.trainable_weights[2]"
   ]
  },
  {
   "cell_type": "code",
   "execution_count": 38,
   "metadata": {},
   "outputs": [
    {
     "name": "stdout",
     "output_type": "stream",
     "text": [
      "\n",
      "In mask_model_stripped Number of nonzero parameters in each layer are: \n",
      "\n",
      "164640\n",
      "300\n",
      "21000\n",
      "100\n",
      "700\n",
      "10\n",
      "\n",
      "Total number of trainable parameters = 186750\n",
      "\n"
     ]
    }
   ],
   "source": [
    "mask_model_stripped_params=parameter_count('mask_model_stripped',mask_model_stripped)"
   ]
  },
  {
   "cell_type": "code",
   "execution_count": 39,
   "metadata": {},
   "outputs": [
    {
     "name": "stdout",
     "output_type": "stream",
     "text": [
      "% of weights reduced = 29.69%\n",
      "\n"
     ]
    }
   ],
   "source": [
    "#Sanity check, to see again the % of the 0 weights\n",
    "\n",
    "print(\"% of weights reduced = {0:.2f}%\\n\".format(((orig_model_stripped_params - mask_model_stripped_params-410) / orig_model_stripped_params) * 100))"
   ]
  },
  {
   "cell_type": "code",
   "execution_count": 40,
   "metadata": {},
   "outputs": [
    {
     "data": {
      "text/plain": [
       "<tf.Tensor: shape=(5,), dtype=float32, numpy=array([0., 0., 1., 0., 1.], dtype=float32)>"
      ]
     },
     "execution_count": 40,
     "metadata": {},
     "output_type": "execute_result"
    }
   ],
   "source": [
    "#sanity check for the masked model and prunned model\n",
    "#to check if the pruned weights actually set to zero\n",
    "\n",
    "mask_model_stripped.trainable_weights[2][0][:5]"
   ]
  },
  {
   "cell_type": "code",
   "execution_count": 41,
   "metadata": {},
   "outputs": [
    {
     "data": {
      "text/plain": [
       "<tf.Tensor: shape=(5,), dtype=float32, numpy=\n",
       "array([-0.        , -0.        ,  0.06506354, -0.        , -0.05408182],\n",
       "      dtype=float32)>"
      ]
     },
     "execution_count": 41,
     "metadata": {},
     "output_type": "execute_result"
    }
   ],
   "source": [
    "pruned_model_stripped.trainable_weights[2][0][:5]"
   ]
  },
  {
   "cell_type": "markdown",
   "metadata": {},
   "source": [
    "## 5: Train the network with initial weights and created mask to generate winning ticket\n",
    "\n",
    "We  will reset the remaining parameters in the pruned model to their values in  _Step - 1_ , to generate the winning ticket.\n",
    "\n",
    "We will leave other weights as zero\n"
   ]
  },
  {
   "cell_type": "code",
   "execution_count": 42,
   "metadata": {},
   "outputs": [],
   "source": [
    "# Instantiate a new neural network model for which, the weights are to be extracted\n",
    "\n",
    "winning_ticket_model = pruned_nn(pruning_params_unpruned)"
   ]
  },
  {
   "cell_type": "code",
   "execution_count": 43,
   "metadata": {},
   "outputs": [],
   "source": [
    "# Load weights of PRUNED model-\n",
    "\n",
    "winning_ticket_model.load_weights(\"Exp/MNIST_300_100_Weights_Pruned_with_pruning_params.h5\")"
   ]
  },
  {
   "cell_type": "code",
   "execution_count": 44,
   "metadata": {},
   "outputs": [],
   "source": [
    "# Strip the model of its pruning parameters-\n",
    "\n",
    "winning_ticket_model_stripped = sparsity.strip_pruning(winning_ticket_model)"
   ]
  },
  {
   "cell_type": "code",
   "execution_count": 45,
   "metadata": {},
   "outputs": [],
   "source": [
    "# For each layer, for each weight which is 0, leave it, as is. And for weights which survive the pruning,\n",
    "# reinitialize it to the value, the model received BEFORE it was trained and pruned-\n",
    "\n",
    "\n",
    "for orig_wts, pruned_wts in zip(orig_model_stripped.trainable_weights, winning_ticket_model_stripped.trainable_weights):\n",
    "    pruned_wts.assign(tf.where(tf.equal(pruned_wts, 0), pruned_wts, orig_wts))"
   ]
  },
  {
   "cell_type": "markdown",
   "metadata": {},
   "source": [
    "### Sanity check\n",
    "\n",
    "To check of the winning tickets parameters are assigned with the original model and pruned model"
   ]
  },
  {
   "cell_type": "code",
   "execution_count": 46,
   "metadata": {},
   "outputs": [
    {
     "data": {
      "text/plain": [
       "<tf.Tensor: shape=(5,), dtype=float32, numpy=\n",
       "array([-0.        , -0.        ,  0.06641036, -0.        , -0.09615057],\n",
       "      dtype=float32)>"
      ]
     },
     "execution_count": 46,
     "metadata": {},
     "output_type": "execute_result"
    }
   ],
   "source": [
    "# Sanity check\n",
    "winning_ticket_model_stripped.trainable_weights[2][0][:5]"
   ]
  },
  {
   "cell_type": "code",
   "execution_count": 47,
   "metadata": {},
   "outputs": [
    {
     "data": {
      "text/plain": [
       "<tf.Tensor: shape=(5,), dtype=float32, numpy=\n",
       "array([-0.02941423, -0.02352277,  0.06641036, -0.04384578, -0.09615057],\n",
       "      dtype=float32)>"
      ]
     },
     "execution_count": 47,
     "metadata": {},
     "output_type": "execute_result"
    }
   ],
   "source": [
    "#again sanity check with the original model\n",
    "\n",
    "orig_model_stripped.trainable_weights[2][0][:5]"
   ]
  },
  {
   "cell_type": "code",
   "execution_count": 48,
   "metadata": {},
   "outputs": [
    {
     "data": {
      "text/plain": [
       "<tf.Tensor: shape=(5,), dtype=float32, numpy=array([0., 0., 1., 0., 1.], dtype=float32)>"
      ]
     },
     "execution_count": 48,
     "metadata": {},
     "output_type": "execute_result"
    }
   ],
   "source": [
    "mask_model_stripped.trainable_weights[2][0][:5]"
   ]
  },
  {
   "cell_type": "code",
   "execution_count": 49,
   "metadata": {},
   "outputs": [
    {
     "name": "stdout",
     "output_type": "stream",
     "text": [
      "\n",
      "In winning_ticket_model_stripped Number of nonzero parameters in each layer are: \n",
      "\n",
      "164640\n",
      "0\n",
      "21000\n",
      "0\n",
      "700\n",
      "0\n",
      "\n",
      "Total number of trainable parameters = 186340\n",
      "\n"
     ]
    }
   ],
   "source": [
    "winning_ticket_stripped_params=parameter_count('winning_ticket_model_stripped',winning_ticket_model_stripped)"
   ]
  },
  {
   "cell_type": "code",
   "execution_count": 50,
   "metadata": {},
   "outputs": [],
   "source": [
    "# Sanity check:\n",
    "# again we are adding 410 for hidden units\n",
    "\n",
    "if winning_ticket_stripped_params+410 != pruned_model_params:\n",
    "    print(\"\\nCritical Error! Number of parameters of winning ticket and pruned parameters do not match!\\n\")"
   ]
  },
  {
   "cell_type": "code",
   "execution_count": 51,
   "metadata": {},
   "outputs": [],
   "source": [
    "# Save the weights (with pruning parameters) extracted to a file-\n",
    "\n",
    "winning_ticket_model_stripped.save_weights(\"Exp/MNIST_300_100_Winning_Ticket_One_Shot.h5\", overwrite=True)"
   ]
  },
  {
   "cell_type": "markdown",
   "metadata": {},
   "source": [
    "## 6: Evaluating the resulting Network\n",
    "\n",
    "According to the paper, in order to identify a winning ticket:\n",
    "\n",
    "1. Winning ticket should achieve same or higher accuracy\n",
    "2. In same or lower epochs"
   ]
  },
  {
   "cell_type": "markdown",
   "metadata": {},
   "source": [
    "## Using _GradientTape_ API:"
   ]
  },
  {
   "cell_type": "markdown",
   "metadata": {},
   "source": [
    "### Train _winning ticket_ model to observe it's convergence"
   ]
  },
  {
   "cell_type": "code",
   "execution_count": 52,
   "metadata": {},
   "outputs": [],
   "source": [
    "#Instantiate a model-\n",
    "model_gt = pruned_nn(pruning_params_unpruned)"
   ]
  },
  {
   "cell_type": "code",
   "execution_count": 53,
   "metadata": {},
   "outputs": [],
   "source": [
    "model_gt_stripped=sparsity.strip_pruning(model_gt)"
   ]
  },
  {
   "cell_type": "code",
   "execution_count": 54,
   "metadata": {},
   "outputs": [],
   "source": [
    "# Load weights of winning ticket-\n",
    "model_gt_stripped.load_weights(\"Exp/MNIST_300_100_Winning_Ticket_One_Shot.h5\")"
   ]
  },
  {
   "cell_type": "code",
   "execution_count": 55,
   "metadata": {},
   "outputs": [
    {
     "name": "stdout",
     "output_type": "stream",
     "text": [
      "Model: \"sequential_4\"\n",
      "_________________________________________________________________\n",
      "Layer (type)                 Output Shape              Param #   \n",
      "=================================================================\n",
      "prune_low_magnitude_dense_12 (None, 300)               470702    \n",
      "_________________________________________________________________\n",
      "prune_low_magnitude_dense_13 (None, 100)               60102     \n",
      "_________________________________________________________________\n",
      "prune_low_magnitude_dense_14 (None, 10)                2012      \n",
      "=================================================================\n",
      "Total params: 532,816\n",
      "Trainable params: 266,610\n",
      "Non-trainable params: 266,206\n",
      "_________________________________________________________________\n"
     ]
    }
   ],
   "source": [
    "model_gt.summary()"
   ]
  },
  {
   "cell_type": "code",
   "execution_count": 56,
   "metadata": {},
   "outputs": [
    {
     "name": "stdout",
     "output_type": "stream",
     "text": [
      "Model: \"sequential_4\"\n",
      "_________________________________________________________________\n",
      "Layer (type)                 Output Shape              Param #   \n",
      "=================================================================\n",
      "dense_12 (Dense)             (None, 300)               235500    \n",
      "_________________________________________________________________\n",
      "dense_13 (Dense)             (None, 100)               30100     \n",
      "_________________________________________________________________\n",
      "dense_14 (Dense)             (None, 10)                1010      \n",
      "=================================================================\n",
      "Total params: 266,610\n",
      "Trainable params: 266,610\n",
      "Non-trainable params: 0\n",
      "_________________________________________________________________\n"
     ]
    }
   ],
   "source": [
    "model_gt_stripped.summary()"
   ]
  },
  {
   "cell_type": "markdown",
   "metadata": {},
   "source": [
    "### Sanity check to compare the weights of winning ticket"
   ]
  },
  {
   "cell_type": "code",
   "execution_count": 57,
   "metadata": {},
   "outputs": [
    {
     "data": {
      "text/plain": [
       "<tf.Tensor: shape=(5,), dtype=float32, numpy=\n",
       "array([-0.        , -0.        ,  0.06641036, -0.        , -0.09615057],\n",
       "      dtype=float32)>"
      ]
     },
     "execution_count": 57,
     "metadata": {},
     "output_type": "execute_result"
    }
   ],
   "source": [
    "#sanity check to compare with the winning ticket weights\n",
    "model_gt_stripped.trainable_weights[2][0][:5]"
   ]
  },
  {
   "cell_type": "code",
   "execution_count": 58,
   "metadata": {},
   "outputs": [
    {
     "data": {
      "text/plain": [
       "<tf.Tensor: shape=(5,), dtype=float32, numpy=\n",
       "array([-0.        , -0.        ,  0.06641036, -0.        , -0.09615057],\n",
       "      dtype=float32)>"
      ]
     },
     "execution_count": 58,
     "metadata": {},
     "output_type": "execute_result"
    }
   ],
   "source": [
    "winning_ticket_model_stripped.trainable_weights[2][0][:5]"
   ]
  },
  {
   "cell_type": "code",
   "execution_count": 59,
   "metadata": {},
   "outputs": [],
   "source": [
    "# Create training and testing datasets for Tensorflow\n",
    "train_dataset = tf.data.Dataset.from_tensor_slices((X_train, y_train))\n",
    "test_dataset = tf.data.Dataset.from_tensor_slices((X_test, y_test))\n",
    "\n",
    "train_dataset = train_dataset.shuffle(buffer_size = 20000, reshuffle_each_iteration = True).batch(batch_size = batch_size, drop_remainder = False)\n",
    "\n",
    "test_dataset = test_dataset.batch(batch_size=batch_size, drop_remainder=False)"
   ]
  },
  {
   "cell_type": "code",
   "execution_count": 60,
   "metadata": {},
   "outputs": [],
   "source": [
    "# Choose an optimizer and loss function for training-\n",
    "loss_fn = tf.keras.losses.CategoricalCrossentropy()\n",
    "optimizer = tf.keras.optimizers.Adam()"
   ]
  },
  {
   "cell_type": "code",
   "execution_count": 61,
   "metadata": {},
   "outputs": [],
   "source": [
    "# Select metrics to measure the error & accuracy of model.\n",
    "# These metrics accumulate the values over epochs and then\n",
    "# print the overall result-\n",
    "train_loss = tf.keras.metrics.Mean(name = 'train_loss')\n",
    "train_accuracy = tf.keras.metrics.CategoricalAccuracy(name = 'train_accuracy')\n",
    "\n",
    "test_loss = tf.keras.metrics.Mean(name = 'test_loss')\n",
    "test_accuracy = tf.keras.metrics.CategoricalAccuracy(name = 'test_accuracy')"
   ]
  },
  {
   "cell_type": "markdown",
   "metadata": {},
   "source": [
    "### Identifying the training and test step"
   ]
  },
  {
   "cell_type": "code",
   "execution_count": 62,
   "metadata": {},
   "outputs": [],
   "source": [
    "@tf.function\n",
    "def train_one_step(model, mask_model, optimizer, x, y):\n",
    "    '''\n",
    "    def train_step(data, labels):\n",
    "    Function to compute one step of gradient descent optimization\n",
    "    '''\n",
    "    with tf.GradientTape() as tape:\n",
    "        # Make predictions using defined model-\n",
    "        y_pred = model(x)\n",
    "\n",
    "        # Compute loss-\n",
    "        loss = loss_fn(y, y_pred)\n",
    "        \n",
    "    # Compute gradients wrt defined loss and weights and biases-\n",
    "    grads = tape.gradient(loss, model.trainable_variables)\n",
    "    \n",
    "    # type(grads)\n",
    "    # list\n",
    "    \n",
    "    '''\n",
    "    for orig_grads, mask in zip(grads, mask_model_stripped.trainable_weights):\n",
    "        # orig_grads.assign(tf.math.multiply(orig_grads, mask))\n",
    "        orig_grads = tf.math.multiply(orig_grads, mask)\n",
    "    '''\n",
    "    \n",
    "    # THIS IS CORRECT-\n",
    "    # List to hold element-wise multiplication between-\n",
    "    # computed gradient and masks-\n",
    "    grad_mask_mul = []\n",
    "    \n",
    "    # Perform element-wise multiplication between computed gradients and masks-\n",
    "    for grad_layer, mask in zip(grads, mask_model.trainable_weights):\n",
    "        grad_mask_mul.append(tf.math.multiply(grad_layer, mask))\n",
    "    \n",
    "    # Apply computed gradients to model's weights and biases-\n",
    "    # optimizer.apply_gradients(zip(grads, model.trainable_variables))\n",
    "    # normally we just apply the grads but here we use masked grads\n",
    "    optimizer.apply_gradients(zip(grad_mask_mul, model.trainable_variables))\n",
    "\n",
    "    # Compute accuracy-\n",
    "    train_loss(loss)\n",
    "    train_accuracy(y, y_pred)\n",
    "\n",
    "    # return model_loss\n",
    "    # return None\n"
   ]
  },
  {
   "cell_type": "code",
   "execution_count": 63,
   "metadata": {},
   "outputs": [],
   "source": [
    "@tf.function\n",
    "def test_step(model, optimizer, data, labels):\n",
    "    \"\"\"\n",
    "    Function to test model performance\n",
    "    on testing dataset\n",
    "    \"\"\"\n",
    "    \n",
    "    predictions = model(data)\n",
    "    t_loss = loss_fn(labels, predictions)\n",
    "\n",
    "    test_loss(t_loss)\n",
    "    test_accuracy(labels, predictions)\n"
   ]
  },
  {
   "cell_type": "markdown",
   "metadata": {},
   "source": [
    "### Provide parameters for _EarlyStopping_\n",
    "\n",
    "The parameters should be same with the original model"
   ]
  },
  {
   "cell_type": "code",
   "execution_count": 64,
   "metadata": {},
   "outputs": [],
   "source": [
    "\n",
    "minimum_delta = 0.001\n",
    "patience = 3\n",
    "\n",
    "patience_val = np.zeros(patience)"
   ]
  },
  {
   "cell_type": "code",
   "execution_count": 65,
   "metadata": {},
   "outputs": [],
   "source": [
    "# Dictionary to hold scalar metrics-\n",
    "history_winning = {}\n",
    "\n",
    "history_winning['accuracy'] = np.zeros(epochs)\n",
    "history_winning['val_accuracy'] = np.zeros(epochs)\n",
    "history_winning['loss'] = np.zeros(epochs)\n",
    "history_winning['val_loss'] = np.zeros(epochs)"
   ]
  },
  {
   "cell_type": "code",
   "execution_count": 66,
   "metadata": {},
   "outputs": [
    {
     "name": "stdout",
     "output_type": "stream",
     "text": [
      "Epoch 1, Loss: 0.1882, Accuracy: 94.3517, Test Loss: 0.1160, Test Accuracy: 96.410004\n",
      "Total number of trainable parameters = 186748\n",
      "\n",
      "Epoch 2, Loss: 0.0808, Accuracy: 97.3633, Test Loss: 0.0926, Test Accuracy: 97.250000\n",
      "Total number of trainable parameters = 186748\n",
      "\n",
      "Epoch 3, Loss: 0.0558, Accuracy: 98.1650, Test Loss: 0.0896, Test Accuracy: 97.509995\n",
      "Total number of trainable parameters = 186748\n",
      "\n",
      "Epoch 4, Loss: 0.0407, Accuracy: 98.6550, Test Loss: 0.0988, Test Accuracy: 97.220001\n",
      "Total number of trainable parameters = 186748\n",
      "\n",
      "Epoch 5, Loss: 0.0340, Accuracy: 98.8317, Test Loss: 0.1009, Test Accuracy: 97.250000\n",
      "Total number of trainable parameters = 186748\n",
      "\n",
      "Epoch 6, Loss: 0.0269, Accuracy: 99.1083, Test Loss: 0.1078, Test Accuracy: 97.089996\n",
      "Total number of trainable parameters = 186748\n",
      "\n",
      "\n",
      "\n",
      "EarlyStopping Evoked! Stopping training\n",
      "\n",
      "\n"
     ]
    }
   ],
   "source": [
    "#min_loss and patience_sofar is the variables to manually enable early stopping  \n",
    "\n",
    "min_loss=10\n",
    "patience_sofar=0\n",
    "\n",
    "for epoch in range(epochs):\n",
    "    \n",
    "    #to stop training when earlystopping criterion met\n",
    "    if patience_sofar >= patience:\n",
    "        print(\"\\n\\nEarlyStopping Evoked! Stopping training\\n\\n\")\n",
    "        break\n",
    "    \n",
    "    # Reset the metrics at the start of the next epoch\n",
    "    train_loss.reset_states()\n",
    "    train_accuracy.reset_states()\n",
    "    test_loss.reset_states()\n",
    "    test_accuracy.reset_states()\n",
    "\n",
    "    for x, y in train_dataset:\n",
    "        train_one_step(model_gt_stripped, mask_model_stripped, optimizer, x, y)\n",
    "        \n",
    "\n",
    "    for x_t, y_t in test_dataset:\n",
    "        \n",
    "        test_step(model_gt_stripped, optimizer, x_t, y_t)\n",
    "\n",
    "    template = 'Epoch {0}, Loss: {1:.4f}, Accuracy: {2:.4f}, Test Loss: {3:.4f}, Test Accuracy: {4:4f}'\n",
    "\n",
    "    history_winning['accuracy'][epoch] = train_accuracy.result()\n",
    "    history_winning['loss'][epoch] = train_loss.result()\n",
    "    history_winning['val_loss'][epoch] = test_loss.result()\n",
    "    history_winning['val_accuracy'][epoch] = test_accuracy.result()\n",
    "\n",
    "    print(template.format(epoch + 1, \n",
    "                          train_loss.result(), train_accuracy.result()*100,\n",
    "                          test_loss.result(), test_accuracy.result()*100))\n",
    "    \n",
    "    # Count number of non-zero parameters in each layer and in total-\n",
    "\n",
    "    model_sum_params = 0\n",
    "    \n",
    "    for layer in model_gt_stripped.trainable_weights:\n",
    "        \n",
    "        model_sum_params += tf.math.count_nonzero(layer, axis = None).numpy()\n",
    "    \n",
    "    print(\"Total number of trainable parameters = {0}\\n\".format(model_sum_params))\n",
    "\n",
    "    #for computing the early stopping manually\n",
    "    \n",
    "    if (min_loss-history_winning['val_loss'][epoch])>minimum_delta:\n",
    "        min_loss=history_winning['val_loss'][epoch]\n",
    "    else:\n",
    "        patience_sofar+=1\n",
    "    \n",
    "            "
   ]
  },
  {
   "cell_type": "code",
   "execution_count": 67,
   "metadata": {},
   "outputs": [
    {
     "data": {
      "text/plain": [
       "0.9729"
      ]
     },
     "execution_count": 67,
     "metadata": {},
     "output_type": "execute_result"
    }
   ],
   "source": [
    "#test accuracy of pruned model\n",
    "\n",
    "score_pruned_model[1]"
   ]
  },
  {
   "cell_type": "code",
   "execution_count": 68,
   "metadata": {},
   "outputs": [
    {
     "name": "stdout",
     "output_type": "stream",
     "text": [
      "tf.Tensor(0.9709, shape=(), dtype=float32)\n"
     ]
    }
   ],
   "source": [
    "#test accuracy of winning ticket\n",
    "\n",
    "test_accuracy.reset_states()\n",
    "test_step(model_gt_stripped,optimizer,X_test,y_test)\n",
    "score_winning=test_accuracy.result()\n",
    "print(score_winning)"
   ]
  },
  {
   "cell_type": "code",
   "execution_count": 69,
   "metadata": {},
   "outputs": [
    {
     "data": {
      "text/plain": [
       "0.9718"
      ]
     },
     "execution_count": 69,
     "metadata": {},
     "output_type": "execute_result"
    }
   ],
   "source": [
    "#test accuracy of orig model\n",
    "\n",
    "score_orig_model[1]"
   ]
  },
  {
   "cell_type": "code",
   "execution_count": 70,
   "metadata": {},
   "outputs": [],
   "source": [
    "#to clear the zero values from dictionary to have better visualization\n",
    "\n",
    "for k,v in history_winning.items():\n",
    "    history_winning[k]=np.where(v==0,np.nan,v)"
   ]
  },
  {
   "cell_type": "code",
   "execution_count": 71,
   "metadata": {},
   "outputs": [
    {
     "data": {
      "image/png": "[encoded data removed]",
      "text/plain": [
       "<Figure size 800x720 with 1 Axes>"
      ]
     },
     "metadata": {},
     "output_type": "display_data"
    },
    {
     "data": {
      "image/png": "[encoded data removed]",
      "text/plain": [
       "<Figure size 800x720 with 1 Axes>"
      ]
     },
     "metadata": {},
     "output_type": "display_data"
    }
   ],
   "source": [
    "# Visualize neural network which is to be pruned off-\n",
    "fig=plt.figure(figsize=(10, 9), dpi= 80, facecolor='w', edgecolor='k')\n",
    "\n",
    "plt.plot(history_winning['loss'], label = 'wt training loss')\n",
    "plt.plot(history_winning['val_loss'], label = 'wt testing loss')\n",
    "plt.plot(history_orig.history['loss'], label = 'orig training loss')\n",
    "plt.plot(history_orig.history['val_loss'], label = 'orig testing loss')\n",
    "\n",
    "plt.title(\"MNIST 300 100 original model - WINNING TICKET vs ORIG MODEL training visualization - LOSS\")\n",
    "plt.ylabel(\"Loss\")\n",
    "plt.xlabel(\"number of epochs\")\n",
    "plt.legend(loc = 'best')\n",
    "plt.show()\n",
    "\n",
    "fig=plt.figure(figsize=(10, 9), dpi= 80, facecolor='w', edgecolor='k')\n",
    "\n",
    "plt.plot(history_winning['accuracy'], label = 'wt training accuracy')\n",
    "plt.plot(history_winning['val_accuracy'], label = 'wt testing accuracy')\n",
    "plt.plot(history_orig.history['accuracy'], label = 'orig training accuracy')\n",
    "plt.plot(history_orig.history['val_accuracy'], label = 'orig testing accuracy')\n",
    "\n",
    "plt.title(\"MNIST 300 100 original model - WINNING TICKET vs ORIG MODEL training visualization - ACCURACY\")\n",
    "plt.ylabel(\"Accuracy\")\n",
    "plt.xlabel(\"number of epochs\")\n",
    "plt.legend(loc = 'best')\n",
    "plt.show()"
   ]
  },
  {
   "cell_type": "markdown",
   "metadata": {},
   "source": [
    "## RESULT\n",
    "\n",
    "##### THIS IS ACTUALLY A WINNING TICKET SINCE IT HAS HIGHER ACCURACY IN EARLIER EPOCH!!"
   ]
  },
  {
   "cell_type": "markdown",
   "metadata": {},
   "source": [
    "#### More Sanity Checks Below"
   ]
  },
  {
   "cell_type": "code",
   "execution_count": 72,
   "metadata": {},
   "outputs": [],
   "source": [
    "# Sanity check- number of parameters after training winning ticket and pruned parameters\n",
    "# should be equal-\n",
    "assert (winning_ticket_stripped_params+410 == pruned_model_params), \\\n",
    "    \"Parameters in winning ticket using masks are INCREASING! Critical Error!!\""
   ]
  },
  {
   "cell_type": "code",
   "execution_count": 73,
   "metadata": {},
   "outputs": [],
   "source": [
    "# Save weights of Winning Ticket (One Shot) trained with GradientTape WITHOUT pruning parameters-\n",
    "model_gt_stripped.save_weights(\"Exp/MNIST_300_100_Winning_Ticket_Trained_GradientTape.h5\", overwrite=True)"
   ]
  },
  {
   "cell_type": "code",
   "execution_count": 74,
   "metadata": {},
   "outputs": [],
   "source": [
    "# Save weights of Winning Ticket (One Shot) trained with GradientTape WITH pruning parameters-\n",
    "model_gt.save_weights(\"Exp/MNIST_300_100_Winning_Ticket_Trained_GradientTape_Pruning_Parameters.h5\", overwrite=True)"
   ]
  },
  {
   "cell_type": "code",
   "execution_count": 75,
   "metadata": {},
   "outputs": [
    {
     "name": "stdout",
     "output_type": "stream",
     "text": [
      "(784, 300)\n",
      "(300,)\n",
      "(300, 100)\n",
      "(100,)\n",
      "(100, 10)\n",
      "(10,)\n"
     ]
    }
   ],
   "source": [
    "# GradientTape model WITH pruning parameters-\n",
    "for layer in model_gt.trainable_variables:\n",
    "    print(layer.shape)"
   ]
  },
  {
   "cell_type": "code",
   "execution_count": 76,
   "metadata": {},
   "outputs": [
    {
     "name": "stdout",
     "output_type": "stream",
     "text": [
      "\n",
      "Check whether weights between 'model_gt' and 'model_gt_stripped' for all layers are same:\n",
      "\n",
      "True\n",
      "True\n",
      "True\n",
      "True\n",
      "True\n",
      "True\n"
     ]
    }
   ],
   "source": [
    "print(\"\\nCheck whether weights between 'model_gt' and 'model_gt_stripped' for all layers are same:\\n\")\n",
    "\n",
    "for winning_tkt, winning_tkt_pruned in zip(model_gt.trainable_variables, model_gt_stripped.trainable_variables):\n",
    "    print(np.all(winning_tkt == winning_tkt_pruned))"
   ]
  },
  {
   "cell_type": "markdown",
   "metadata": {},
   "source": [
    "## Additional Experiments\n",
    "\n",
    "### 7. Random Initial Weights with proper mask\n",
    "\n",
    "Here we will make experiment to see whether the initial weights are the important factor, as claimed in the paper. "
   ]
  },
  {
   "cell_type": "code",
   "execution_count": 77,
   "metadata": {},
   "outputs": [],
   "source": [
    "# Instantiate a new neural network model for which, the weights are to be extracted\n",
    "\n",
    "winning_ticket_model_random_w = pruned_nn(pruning_params_unpruned)"
   ]
  },
  {
   "cell_type": "code",
   "execution_count": 78,
   "metadata": {},
   "outputs": [],
   "source": [
    "# Load weights of PRUNED model-\n",
    "\n",
    "winning_ticket_model_random_w.load_weights(\"Exp/MNIST_300_100_Weights_Pruned_with_pruning_params.h5\")"
   ]
  },
  {
   "cell_type": "code",
   "execution_count": 79,
   "metadata": {},
   "outputs": [],
   "source": [
    "# Strip the model of its pruning parameters-\n",
    "\n",
    "winning_ticket_model_random_w_stripped = sparsity.strip_pruning(winning_ticket_model_random_w)"
   ]
  },
  {
   "cell_type": "code",
   "execution_count": 80,
   "metadata": {},
   "outputs": [],
   "source": [
    "# Here we will just initiate a random model to use its weights\n",
    "\n",
    "random_model=pruned_nn(pruning_params_unpruned)\n",
    "random_model_stripped=sparsity.strip_pruning(random_model)"
   ]
  },
  {
   "cell_type": "code",
   "execution_count": 81,
   "metadata": {},
   "outputs": [],
   "source": [
    "# For each layer, for each weight which is 0, leave it, as is. And for weights which survive the pruning,\n",
    "# reinitialize it to the value, the model received BEFORE it was trained and pruned-\n",
    "\n",
    "\n",
    "for rand_wts, pruned_wts in zip(random_model_stripped.trainable_weights, winning_ticket_model_random_w_stripped.trainable_weights):\n",
    "    pruned_wts.assign(tf.where(tf.equal(pruned_wts, 0), pruned_wts, rand_wts))"
   ]
  },
  {
   "cell_type": "markdown",
   "metadata": {},
   "source": [
    "### Sanity check\n",
    "\n",
    "To check of the winning tickets parameters are assigned with the random model and pruned model"
   ]
  },
  {
   "cell_type": "code",
   "execution_count": 82,
   "metadata": {},
   "outputs": [
    {
     "data": {
      "text/plain": [
       "<tf.Tensor: shape=(5,), dtype=float32, numpy=\n",
       "array([-0.        , -0.        , -0.01635561, -0.        ,  0.01204481],\n",
       "      dtype=float32)>"
      ]
     },
     "execution_count": 82,
     "metadata": {},
     "output_type": "execute_result"
    }
   ],
   "source": [
    "# Sanity check\n",
    "winning_ticket_model_random_w_stripped.trainable_weights[2][0][:5]"
   ]
  },
  {
   "cell_type": "code",
   "execution_count": 83,
   "metadata": {},
   "outputs": [
    {
     "data": {
      "text/plain": [
       "<tf.Tensor: shape=(5,), dtype=float32, numpy=\n",
       "array([ 0.01332676, -0.0807797 , -0.01635561,  0.11314432,  0.01204481],\n",
       "      dtype=float32)>"
      ]
     },
     "execution_count": 83,
     "metadata": {},
     "output_type": "execute_result"
    }
   ],
   "source": [
    "#again sanity check with the original model\n",
    "\n",
    "random_model_stripped.trainable_weights[2][0][:5]"
   ]
  },
  {
   "cell_type": "code",
   "execution_count": 84,
   "metadata": {},
   "outputs": [
    {
     "data": {
      "text/plain": [
       "<tf.Tensor: shape=(5,), dtype=float32, numpy=array([0., 0., 1., 0., 1.], dtype=float32)>"
      ]
     },
     "execution_count": 84,
     "metadata": {},
     "output_type": "execute_result"
    }
   ],
   "source": [
    "mask_model_stripped.trainable_weights[2][0][:5]"
   ]
  },
  {
   "cell_type": "code",
   "execution_count": 85,
   "metadata": {},
   "outputs": [],
   "source": [
    "# Save the weights (with pruning parameters) extracted to a file-\n",
    "\n",
    "winning_ticket_model_random_w_stripped.save_weights(\"Exp/MNIST_300_100_Winning_Ticket_Rand_W_One_Shot.h5\", overwrite=True)"
   ]
  },
  {
   "cell_type": "code",
   "execution_count": 86,
   "metadata": {},
   "outputs": [],
   "source": [
    "#Instantiate a model-\n",
    "model_gt_random_w = pruned_nn(pruning_params_unpruned)"
   ]
  },
  {
   "cell_type": "code",
   "execution_count": 87,
   "metadata": {},
   "outputs": [],
   "source": [
    "model_gt_random_w_stripped=sparsity.strip_pruning(model_gt_random_w)"
   ]
  },
  {
   "cell_type": "code",
   "execution_count": 88,
   "metadata": {},
   "outputs": [],
   "source": [
    "# Load weights of winning ticket-\n",
    "model_gt_random_w_stripped.load_weights(\"Exp/MNIST_300_100_Winning_Ticket_Rand_W_One_Shot.h5\")"
   ]
  },
  {
   "cell_type": "code",
   "execution_count": 89,
   "metadata": {},
   "outputs": [
    {
     "data": {
      "text/plain": [
       "<tf.Tensor: shape=(5,), dtype=float32, numpy=\n",
       "array([-0.        , -0.        , -0.01635561, -0.        ,  0.01204481],\n",
       "      dtype=float32)>"
      ]
     },
     "execution_count": 89,
     "metadata": {},
     "output_type": "execute_result"
    }
   ],
   "source": [
    "#sanity check for weights\n",
    "\n",
    "model_gt_random_w_stripped.trainable_weights[2][0][:5]"
   ]
  },
  {
   "cell_type": "code",
   "execution_count": 90,
   "metadata": {},
   "outputs": [
    {
     "data": {
      "text/plain": [
       "<tf.Tensor: shape=(5,), dtype=float32, numpy=\n",
       "array([-0.        , -0.        , -0.01635561, -0.        ,  0.01204481],\n",
       "      dtype=float32)>"
      ]
     },
     "execution_count": 90,
     "metadata": {},
     "output_type": "execute_result"
    }
   ],
   "source": [
    "winning_ticket_model_random_w_stripped.trainable_weights[2][0][:5]"
   ]
  },
  {
   "cell_type": "code",
   "execution_count": 91,
   "metadata": {},
   "outputs": [],
   "source": [
    "# Dictionary to hold scalar metrics-\n",
    "history_winning_random_w = {}\n",
    "\n",
    "history_winning_random_w['accuracy'] = np.zeros(epochs)\n",
    "history_winning_random_w['val_accuracy'] = np.zeros(epochs)\n",
    "history_winning_random_w['loss'] = np.zeros(epochs)\n",
    "history_winning_random_w['val_loss'] = np.zeros(epochs)"
   ]
  },
  {
   "cell_type": "markdown",
   "metadata": {},
   "source": [
    "## Here I will define the tf.functions again, because otherwise it does not work due to bug"
   ]
  },
  {
   "cell_type": "code",
   "execution_count": 92,
   "metadata": {},
   "outputs": [],
   "source": [
    "@tf.function\n",
    "def train_one_step(model, mask_model, optimizer, x, y):\n",
    "    '''\n",
    "    def train_step(data, labels):\n",
    "    Function to compute one step of gradient descent optimization\n",
    "    '''\n",
    "    with tf.GradientTape() as tape:\n",
    "        # Make predictions using defined model-\n",
    "        y_pred = model(x)\n",
    "\n",
    "        # Compute loss-\n",
    "        loss = loss_fn(y, y_pred)\n",
    "        \n",
    "    # Compute gradients wrt defined loss and weights and biases-\n",
    "    grads = tape.gradient(loss, model.trainable_variables)\n",
    "    \n",
    "    # type(grads)\n",
    "    # list\n",
    "    \n",
    "    '''\n",
    "    for orig_grads, mask in zip(grads, mask_model_stripped.trainable_weights):\n",
    "        # orig_grads.assign(tf.math.multiply(orig_grads, mask))\n",
    "        orig_grads = tf.math.multiply(orig_grads, mask)\n",
    "    '''\n",
    "    \n",
    "    # THIS IS CORRECT-\n",
    "    # List to hold element-wise multiplication between-\n",
    "    # computed gradient and masks-\n",
    "    grad_mask_mul = []\n",
    "    \n",
    "    # Perform element-wise multiplication between computed gradients and masks-\n",
    "    for grad_layer, mask in zip(grads, mask_model.trainable_weights):\n",
    "        grad_mask_mul.append(tf.math.multiply(grad_layer, mask))\n",
    "    \n",
    "    # Apply computed gradients to model's weights and biases-\n",
    "    # optimizer.apply_gradients(zip(grads, model.trainable_variables))\n",
    "    # normally we just apply the grads but here we use masked grads\n",
    "    optimizer.apply_gradients(zip(grad_mask_mul, model.trainable_variables))\n",
    "\n",
    "    # Compute accuracy-\n",
    "    train_loss(loss)\n",
    "    train_accuracy(y, y_pred)\n",
    "\n",
    "    # return model_loss\n",
    "    # return None\n"
   ]
  },
  {
   "cell_type": "code",
   "execution_count": 93,
   "metadata": {},
   "outputs": [],
   "source": [
    "@tf.function\n",
    "def test_step(model, optimizer, data, labels):\n",
    "    \"\"\"\n",
    "    Function to test model performance\n",
    "    on testing dataset\n",
    "    \"\"\"\n",
    "    \n",
    "    predictions = model(data)\n",
    "    t_loss = loss_fn(labels, predictions)\n",
    "\n",
    "    test_loss(t_loss)\n",
    "    test_accuracy(labels, predictions)\n"
   ]
  },
  {
   "cell_type": "code",
   "execution_count": 94,
   "metadata": {},
   "outputs": [
    {
     "name": "stdout",
     "output_type": "stream",
     "text": [
      "Epoch 1, Loss: 0.1986, Accuracy: 93.8967, Test Loss: 0.1152, Test Accuracy: 96.410004\n",
      "Total number of trainable parameters = 186750\n",
      "\n",
      "Epoch 2, Loss: 0.0922, Accuracy: 97.0700, Test Loss: 0.1024, Test Accuracy: 96.949997\n",
      "Total number of trainable parameters = 186750\n",
      "\n",
      "Epoch 3, Loss: 0.0658, Accuracy: 97.9317, Test Loss: 0.0842, Test Accuracy: 97.229996\n",
      "Total number of trainable parameters = 186750\n",
      "\n",
      "Epoch 4, Loss: 0.0479, Accuracy: 98.4683, Test Loss: 0.1077, Test Accuracy: 96.870003\n",
      "Total number of trainable parameters = 186750\n",
      "\n",
      "Epoch 5, Loss: 0.0387, Accuracy: 98.7417, Test Loss: 0.0951, Test Accuracy: 97.239998\n",
      "Total number of trainable parameters = 186750\n",
      "\n",
      "Epoch 6, Loss: 0.0306, Accuracy: 98.9717, Test Loss: 0.1120, Test Accuracy: 97.169998\n",
      "Total number of trainable parameters = 186750\n",
      "\n",
      "\n",
      "\n",
      "EarlyStopping Evoked! Stopping training\n",
      "\n",
      "\n"
     ]
    }
   ],
   "source": [
    "#min_loss and patience_sofar is the variables to manually enable early stopping  \n",
    "\n",
    "min_loss=10\n",
    "patience_sofar=0\n",
    "\n",
    "for epoch in range(epochs):\n",
    "    \n",
    "    #to stop training when earlystopping criterion met\n",
    "    if patience_sofar >= patience:\n",
    "        print(\"\\n\\nEarlyStopping Evoked! Stopping training\\n\\n\")\n",
    "        break\n",
    "    \n",
    "    # Reset the metrics at the start of the next epoch\n",
    "    train_loss.reset_states()\n",
    "    train_accuracy.reset_states()\n",
    "    test_loss.reset_states()\n",
    "    test_accuracy.reset_states()\n",
    "\n",
    "    for x, y in train_dataset:\n",
    "        train_one_step(model_gt_random_w_stripped, mask_model_stripped, optimizer, x, y)\n",
    "        \n",
    "\n",
    "    for x_t, y_t in test_dataset:\n",
    "        \n",
    "        test_step(model_gt_random_w_stripped, optimizer, x_t, y_t)\n",
    "\n",
    "    template = 'Epoch {0}, Loss: {1:.4f}, Accuracy: {2:.4f}, Test Loss: {3:.4f}, Test Accuracy: {4:4f}'\n",
    "\n",
    "    history_winning_random_w['accuracy'][epoch] = train_accuracy.result()\n",
    "    history_winning_random_w['loss'][epoch] = train_loss.result()\n",
    "    history_winning_random_w['val_loss'][epoch] = test_loss.result()\n",
    "    history_winning_random_w['val_accuracy'][epoch] = test_accuracy.result()\n",
    "\n",
    "    print(template.format(epoch + 1, \n",
    "                          train_loss.result(), train_accuracy.result()*100,\n",
    "                          test_loss.result(), test_accuracy.result()*100))\n",
    "    \n",
    "    # Count number of non-zero parameters in each layer and in total-\n",
    "\n",
    "    model_sum_params = 0\n",
    "    \n",
    "    for layer in model_gt_random_w_stripped.trainable_weights:\n",
    "        \n",
    "        model_sum_params += tf.math.count_nonzero(layer, axis = None).numpy()\n",
    "    \n",
    "    print(\"Total number of trainable parameters = {0}\\n\".format(model_sum_params))\n",
    "\n",
    "    #for computing the early stopping manually\n",
    "    \n",
    "    if (min_loss-history_winning_random_w['val_loss'][epoch])>minimum_delta:\n",
    "        min_loss=history_winning_random_w['val_loss'][epoch]\n",
    "    else:\n",
    "        patience_sofar+=1\n",
    "    \n",
    "            "
   ]
  },
  {
   "cell_type": "code",
   "execution_count": 95,
   "metadata": {},
   "outputs": [
    {
     "name": "stdout",
     "output_type": "stream",
     "text": [
      "tf.Tensor(0.9717, shape=(), dtype=float32)\n"
     ]
    }
   ],
   "source": [
    "#test accuracy of random weights winning ticket\n",
    "\n",
    "test_accuracy.reset_states()\n",
    "test_step(model_gt_random_w_stripped,optimizer,X_test,y_test)\n",
    "score_winning=test_accuracy.result()\n",
    "print(score_winning)"
   ]
  },
  {
   "cell_type": "code",
   "execution_count": 96,
   "metadata": {},
   "outputs": [],
   "source": [
    "#to clear the zero values from dictionary to have better visualization\n",
    "\n",
    "for k,v in history_winning_random_w.items():\n",
    "    history_winning_random_w[k]=np.where(v==0,np.nan,v)"
   ]
  },
  {
   "cell_type": "code",
   "execution_count": 97,
   "metadata": {},
   "outputs": [
    {
     "data": {
      "image/png": "[encoded data removed]",
      "text/plain": [
       "<Figure size 800x720 with 1 Axes>"
      ]
     },
     "metadata": {},
     "output_type": "display_data"
    },
    {
     "data": {
      "image/png": "[encoded data removed]",
      "text/plain": [
       "<Figure size 800x720 with 1 Axes>"
      ]
     },
     "metadata": {},
     "output_type": "display_data"
    }
   ],
   "source": [
    "# Visualize neural network which is to be pruned off-\n",
    "fig=plt.figure(figsize=(10, 9), dpi= 80, facecolor='w', edgecolor='k')\n",
    "\n",
    "plt.plot(history_winning['loss'], label = 'wt training loss')\n",
    "plt.plot(history_winning['val_loss'], label = 'wt testing loss')\n",
    "plt.plot(history_winning_random_w['loss'], label = 'wt_rand training loss')\n",
    "plt.plot(history_winning_random_w['val_loss'], label = 'wt_rand testing loss')\n",
    "plt.plot(history_orig.history['loss'], label = 'orig training loss')\n",
    "plt.plot(history_orig.history['val_loss'], label = 'orig testing loss')\n",
    "\n",
    "\n",
    "plt.title(\"MNIST 300 100 original model - WINNING TICKET's vs ORIG MODEL training visualization - LOSS\")\n",
    "plt.ylabel(\"Loss\")\n",
    "plt.xlabel(\"number of epochs\")\n",
    "plt.legend(loc = 'best')\n",
    "plt.show()\n",
    "\n",
    "fig=plt.figure(figsize=(10, 9), dpi= 80, facecolor='w', edgecolor='k')\n",
    "\n",
    "plt.plot(history_winning['accuracy'], label = 'wt training accuracy')\n",
    "plt.plot(history_winning['val_accuracy'], label = 'wt testing accuracy')\n",
    "plt.plot(history_winning_random_w['accuracy'], label = 'wt_rand training accuracy')\n",
    "plt.plot(history_winning_random_w['val_accuracy'], label = 'wt_rand testing accuracy')\n",
    "plt.plot(history_orig.history['accuracy'], label = 'orig training accuracy')\n",
    "plt.plot(history_orig.history['val_accuracy'], label = 'orig testing accuracy')\n",
    "\n",
    "plt.title(\"MNIST 300 100 original model - WINNING TICKET's vs ORIG MODEL training visualization - ACCURACY\")\n",
    "plt.ylabel(\"Accuracy\")\n",
    "plt.xlabel(\"number of epochs\")\n",
    "plt.legend(loc = 'best')\n",
    "plt.show()"
   ]
  },
  {
   "cell_type": "markdown",
   "metadata": {},
   "source": [
    "### Observation\n",
    "\n",
    "Here we dont observe any particular difference with random initialization and original initialization.\n",
    "\n",
    "However, we have used _one shot_ approach while the study suggested _iterative_ pruning"
   ]
  },
  {
   "cell_type": "markdown",
   "metadata": {},
   "source": [
    "## 8. Original initial weights with random mask"
   ]
  }
 ],
 "metadata": {
  "kernelspec": {
   "display_name": "Python 3",
   "language": "python",
   "name": "python3"
  },
  "language_info": {
   "codemirror_mode": {
    "name": "ipython",
    "version": 3
   },
   "file_extension": ".py",
   "mimetype": "text/x-python",
   "name": "python",
   "nbconvert_exporter": "python",
   "pygments_lexer": "ipython3",
   "version": "3.7.3"
  }
 },
 "nbformat": 4,
 "nbformat_minor": 4
}
